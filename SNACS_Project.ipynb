{
  "nbformat": 4,
  "nbformat_minor": 0,
  "metadata": {
    "colab": {
      "name": "SNACS_Project.ipynb",
      "provenance": [],
      "collapsed_sections": [
        "7BkFQd6HMH9V",
        "YJiUiV-TMULn",
        "nIdibQuVMbAS",
        "_osd3qvzMmvO",
        "F8TWADJmM8Z3",
        "lMlDfg0cLOIN"
      ]
    },
    "kernelspec": {
      "name": "python3",
      "display_name": "Python 3"
    },
    "language_info": {
      "name": "python"
    }
  },
  "cells": [
    {
      "cell_type": "markdown",
      "source": [
        "##SNACS 2021 Project<br/> Community Aware Detection of Anomalies using Leiden Algorithm <br/> by Noel Rohan Vasanth and Lucan van Rooij"
      ],
      "metadata": {
        "id": "lNf71p-94npM"
      }
    },
    {
      "cell_type": "markdown",
      "source": [
        "####Setup"
      ],
      "metadata": {
        "id": "7BkFQd6HMH9V"
      }
    },
    {
      "cell_type": "code",
      "metadata": {
        "colab": {
          "base_uri": "https://localhost:8080/"
        },
        "id": "0KZDcY5q7WPy",
        "outputId": "4a2fbafe-fc83-4049-bb17-cf4bfcd2bd92"
      },
      "source": [
        "# acquiring the dataset from drive, installing libraries\n",
        "!unzip '/content/drive/MyDrive/Masters AI/Sem3/SNACS/Project/Amazon.zip'\n",
        "!pip install infomap\n",
        "!pip install leidenalg\n",
        "!pip install cdlib"
      ],
      "execution_count": null,
      "outputs": [
        {
          "output_type": "stream",
          "name": "stdout",
          "text": [
            "Archive:  /content/drive/MyDrive/Masters AI/Sem3/SNACS/Project/Amazon.zip\n",
            "  inflating: Amazon.mat              \n",
            "Collecting infomap\n",
            "  Downloading infomap-1.9.0.tar.gz (292 kB)\n",
            "\u001b[K     |████████████████████████████████| 292 kB 14.6 MB/s \n",
            "\u001b[?25hBuilding wheels for collected packages: infomap\n",
            "  Building wheel for infomap (setup.py) ... \u001b[?25l\u001b[?25hdone\n",
            "  Created wheel for infomap: filename=infomap-1.9.0-cp37-cp37m-linux_x86_64.whl size=5867332 sha256=b5cce39cb0f5545c68fa86f0dc4dceccf3cfc038d7a44accb093d9fa3005edb7\n",
            "  Stored in directory: /root/.cache/pip/wheels/88/7d/77/d5f814617bfea19465faad2bae4d95862d9faa83b707088747\n",
            "Successfully built infomap\n",
            "Installing collected packages: infomap\n",
            "Successfully installed infomap-1.9.0\n",
            "Collecting leidenalg\n",
            "  Downloading leidenalg-0.8.8-cp37-cp37m-manylinux2010_x86_64.whl (1.4 MB)\n",
            "\u001b[K     |████████████████████████████████| 1.4 MB 16.7 MB/s \n",
            "\u001b[?25hCollecting python-igraph>=0.9.0\n",
            "  Downloading python-igraph-0.9.8.tar.gz (9.5 kB)\n",
            "Collecting igraph==0.9.8\n",
            "  Downloading igraph-0.9.8-cp37-cp37m-manylinux_2_12_x86_64.manylinux2010_x86_64.whl (3.2 MB)\n",
            "\u001b[K     |████████████████████████████████| 3.2 MB 38.3 MB/s \n",
            "\u001b[?25hCollecting texttable>=1.6.2\n",
            "  Downloading texttable-1.6.4-py2.py3-none-any.whl (10 kB)\n",
            "Building wheels for collected packages: python-igraph\n",
            "  Building wheel for python-igraph (setup.py) ... \u001b[?25l\u001b[?25hdone\n",
            "  Created wheel for python-igraph: filename=python_igraph-0.9.8-py3-none-any.whl size=9070 sha256=210c2caf42dfcf59afd31f17e3fe638e0a5d4091865511c99873c80f13360d26\n",
            "  Stored in directory: /root/.cache/pip/wheels/15/86/ef/b8bcdfbcb1c489771ad256c7cd1eb4971cdb7f3f670938b798\n",
            "Successfully built python-igraph\n",
            "Installing collected packages: texttable, igraph, python-igraph, leidenalg\n",
            "Successfully installed igraph-0.9.8 leidenalg-0.8.8 python-igraph-0.9.8 texttable-1.6.4\n",
            "Collecting cdlib\n",
            "  Downloading cdlib-0.2.5-py3-none-any.whl (227 kB)\n",
            "\u001b[K     |████████████████████████████████| 227 kB 14.9 MB/s \n",
            "\u001b[?25hCollecting pulp\n",
            "  Downloading PuLP-2.6.0-py3-none-any.whl (14.2 MB)\n",
            "\u001b[K     |████████████████████████████████| 14.2 MB 49.3 MB/s \n",
            "\u001b[?25hRequirement already satisfied: scikit-learn in /usr/local/lib/python3.7/dist-packages (from cdlib) (1.0.1)\n",
            "Collecting pyclustering\n",
            "  Downloading pyclustering-0.10.1.2.tar.gz (2.6 MB)\n",
            "\u001b[K     |████████████████████████████████| 2.6 MB 36.3 MB/s \n",
            "\u001b[?25hRequirement already satisfied: seaborn in /usr/local/lib/python3.7/dist-packages (from cdlib) (0.11.2)\n",
            "Collecting karateclub\n",
            "  Downloading karateclub-1.2.2.tar.gz (62 kB)\n",
            "\u001b[K     |████████████████████████████████| 62 kB 549 kB/s \n",
            "\u001b[?25hRequirement already satisfied: cython in /usr/local/lib/python3.7/dist-packages (from cdlib) (0.29.24)\n",
            "Collecting angel-cd\n",
            "  Downloading angel_cd-1.0.3-py3-none-any.whl (10 kB)\n",
            "Requirement already satisfied: future in /usr/local/lib/python3.7/dist-packages (from cdlib) (0.16.0)\n",
            "Requirement already satisfied: scipy in /usr/local/lib/python3.7/dist-packages (from cdlib) (1.4.1)\n",
            "Requirement already satisfied: tqdm in /usr/local/lib/python3.7/dist-packages (from cdlib) (4.62.3)\n",
            "Requirement already satisfied: matplotlib in /usr/local/lib/python3.7/dist-packages (from cdlib) (3.2.2)\n",
            "Collecting wurlitzer\n",
            "  Downloading wurlitzer-3.0.2-py3-none-any.whl (7.3 kB)\n",
            "Collecting nf1\n",
            "  Downloading nf1-0.0.4-py3-none-any.whl (18 kB)\n",
            "Collecting markov-clustering\n",
            "  Downloading markov_clustering-0.0.6.dev0-py3-none-any.whl (6.3 kB)\n",
            "Requirement already satisfied: numpy in /usr/local/lib/python3.7/dist-packages (from cdlib) (1.19.5)\n",
            "Collecting eva-lcd\n",
            "  Downloading eva_lcd-0.1.1-py3-none-any.whl (9.2 kB)\n",
            "Collecting chinese-whispers\n",
            "  Downloading chinese_whispers-0.7.5-py3-none-any.whl (7.6 kB)\n",
            "Requirement already satisfied: leidenalg in /usr/local/lib/python3.7/dist-packages (from cdlib) (0.8.8)\n",
            "Collecting dynetx\n",
            "  Downloading dynetx-0.3.1-py3-none-any.whl (39 kB)\n",
            "Requirement already satisfied: python-louvain in /usr/local/lib/python3.7/dist-packages (from cdlib) (0.15)\n",
            "Collecting thresholdclustering\n",
            "  Downloading thresholdclustering-1.1-py3-none-any.whl (5.3 kB)\n",
            "Collecting python-Levenshtein\n",
            "  Downloading python-Levenshtein-0.12.2.tar.gz (50 kB)\n",
            "\u001b[K     |████████████████████████████████| 50 kB 5.6 MB/s \n",
            "\u001b[?25hCollecting bimlpa\n",
            "  Downloading bimlpa-0.1.2-py3-none-any.whl (7.0 kB)\n",
            "Requirement already satisfied: networkx>=2.4 in /usr/local/lib/python3.7/dist-packages (from cdlib) (2.6.3)\n",
            "Collecting demon\n",
            "  Downloading demon-2.0.6-py3-none-any.whl (7.3 kB)\n",
            "Requirement already satisfied: infomap in /usr/local/lib/python3.7/dist-packages (from cdlib) (1.9.0)\n",
            "Requirement already satisfied: pandas in /usr/local/lib/python3.7/dist-packages (from cdlib) (1.1.5)\n",
            "Requirement already satisfied: python-igraph in /usr/local/lib/python3.7/dist-packages (from cdlib) (0.9.8)\n",
            "Requirement already satisfied: pooch in /usr/local/lib/python3.7/dist-packages (from cdlib) (1.5.2)\n",
            "Requirement already satisfied: decorator in /usr/local/lib/python3.7/dist-packages (from dynetx->cdlib) (4.4.2)\n",
            "Collecting pygsp\n",
            "  Downloading PyGSP-0.5.1-py2.py3-none-any.whl (1.8 MB)\n",
            "\u001b[K     |████████████████████████████████| 1.8 MB 43.7 MB/s \n",
            "\u001b[?25hCollecting gensim>=4.0.0\n",
            "  Downloading gensim-4.1.2-cp37-cp37m-manylinux_2_12_x86_64.manylinux2010_x86_64.whl (24.1 MB)\n",
            "\u001b[K     |████████████████████████████████| 24.1 MB 1.7 MB/s \n",
            "\u001b[?25hRequirement already satisfied: six in /usr/local/lib/python3.7/dist-packages (from karateclub->cdlib) (1.15.0)\n",
            "Requirement already satisfied: smart-open>=1.8.1 in /usr/local/lib/python3.7/dist-packages (from gensim>=4.0.0->karateclub->cdlib) (5.2.1)\n",
            "Requirement already satisfied: igraph==0.9.8 in /usr/local/lib/python3.7/dist-packages (from python-igraph->cdlib) (0.9.8)\n",
            "Requirement already satisfied: texttable>=1.6.2 in /usr/local/lib/python3.7/dist-packages (from igraph==0.9.8->python-igraph->cdlib) (1.6.4)\n",
            "Requirement already satisfied: kiwisolver>=1.0.1 in /usr/local/lib/python3.7/dist-packages (from matplotlib->cdlib) (1.3.2)\n",
            "Requirement already satisfied: python-dateutil>=2.1 in /usr/local/lib/python3.7/dist-packages (from matplotlib->cdlib) (2.8.2)\n",
            "Requirement already satisfied: cycler>=0.10 in /usr/local/lib/python3.7/dist-packages (from matplotlib->cdlib) (0.11.0)\n",
            "Requirement already satisfied: pyparsing!=2.0.4,!=2.1.2,!=2.1.6,>=2.0.1 in /usr/local/lib/python3.7/dist-packages (from matplotlib->cdlib) (3.0.6)\n",
            "Requirement already satisfied: pytz>=2017.2 in /usr/local/lib/python3.7/dist-packages (from pandas->cdlib) (2018.9)\n",
            "Requirement already satisfied: appdirs in /usr/local/lib/python3.7/dist-packages (from pooch->cdlib) (1.4.4)\n",
            "Requirement already satisfied: packaging in /usr/local/lib/python3.7/dist-packages (from pooch->cdlib) (21.3)\n",
            "Requirement already satisfied: requests in /usr/local/lib/python3.7/dist-packages (from pooch->cdlib) (2.23.0)\n",
            "Requirement already satisfied: Pillow>=5.2.0 in /usr/local/lib/python3.7/dist-packages (from pyclustering->cdlib) (7.1.2)\n",
            "Requirement already satisfied: setuptools in /usr/local/lib/python3.7/dist-packages (from python-Levenshtein->cdlib) (57.4.0)\n",
            "Requirement already satisfied: chardet<4,>=3.0.2 in /usr/local/lib/python3.7/dist-packages (from requests->pooch->cdlib) (3.0.4)\n",
            "Requirement already satisfied: certifi>=2017.4.17 in /usr/local/lib/python3.7/dist-packages (from requests->pooch->cdlib) (2021.10.8)\n",
            "Requirement already satisfied: idna<3,>=2.5 in /usr/local/lib/python3.7/dist-packages (from requests->pooch->cdlib) (2.10)\n",
            "Requirement already satisfied: urllib3!=1.25.0,!=1.25.1,<1.26,>=1.21.1 in /usr/local/lib/python3.7/dist-packages (from requests->pooch->cdlib) (1.24.3)\n",
            "Requirement already satisfied: joblib>=0.11 in /usr/local/lib/python3.7/dist-packages (from scikit-learn->cdlib) (1.1.0)\n",
            "Requirement already satisfied: threadpoolctl>=2.0.0 in /usr/local/lib/python3.7/dist-packages (from scikit-learn->cdlib) (3.0.0)\n",
            "Building wheels for collected packages: karateclub, pyclustering, python-Levenshtein\n",
            "  Building wheel for karateclub (setup.py) ... \u001b[?25l\u001b[?25hdone\n",
            "  Created wheel for karateclub: filename=karateclub-1.2.2-py3-none-any.whl size=97744 sha256=2e27360927e5bd48c36b59a4661bfc1373ec834ad9769924193732c27fc1b9fc\n",
            "  Stored in directory: /root/.cache/pip/wheels/14/4b/99/abc777e42da28bc43b6959267f4f1c5eee06814a5c608a9ed2\n",
            "  Building wheel for pyclustering (setup.py) ... \u001b[?25l\u001b[?25hdone\n",
            "  Created wheel for pyclustering: filename=pyclustering-0.10.1.2-py3-none-any.whl size=2395121 sha256=2b14006500b517610536303713aabbef1710cf0a2977f03182e3d30b2dce7bdf\n",
            "  Stored in directory: /root/.cache/pip/wheels/ea/87/6b/1e0568b5ba9dc6518a25338bae90bd8392f35206bb90bb10f1\n",
            "  Building wheel for python-Levenshtein (setup.py) ... \u001b[?25l\u001b[?25hdone\n",
            "  Created wheel for python-Levenshtein: filename=python_Levenshtein-0.12.2-cp37-cp37m-linux_x86_64.whl size=149859 sha256=4d50a087525f842224004e496f15f92fc51318ec2cd4ab205a28a88da0cf2107\n",
            "  Stored in directory: /root/.cache/pip/wheels/05/5f/ca/7c4367734892581bb5ff896f15027a932c551080b2abd3e00d\n",
            "Successfully built karateclub pyclustering python-Levenshtein\n",
            "Installing collected packages: python-Levenshtein, pygsp, gensim, wurlitzer, thresholdclustering, pyclustering, pulp, nf1, markov-clustering, karateclub, eva-lcd, dynetx, demon, chinese-whispers, bimlpa, angel-cd, cdlib\n",
            "  Attempting uninstall: gensim\n",
            "    Found existing installation: gensim 3.6.0\n",
            "    Uninstalling gensim-3.6.0:\n",
            "      Successfully uninstalled gensim-3.6.0\n",
            "Successfully installed angel-cd-1.0.3 bimlpa-0.1.2 cdlib-0.2.5 chinese-whispers-0.7.5 demon-2.0.6 dynetx-0.3.1 eva-lcd-0.1.1 gensim-4.1.2 karateclub-1.2.2 markov-clustering-0.0.6.dev0 nf1-0.0.4 pulp-2.6.0 pyclustering-0.10.1.2 pygsp-0.5.1 python-Levenshtein-0.12.2 thresholdclustering-1.1 wurlitzer-3.0.2\n"
          ]
        }
      ]
    },
    {
      "cell_type": "code",
      "metadata": {
        "id": "NqEGSYetfC9K"
      },
      "source": [
        "# importing libraries\n",
        "import pandas as pd\n",
        "import networkx as nx\n",
        "import numpy as np\n",
        "import scipy.io\n",
        "from math import sqrt\n",
        "import random\n",
        "import community.community_louvain as community_louvain\n",
        "import time\n",
        "import infomap\n",
        "import leidenalg\n",
        "import igraph as ig\n",
        "import sklearn.metrics as metrics\n",
        "import matplotlib.pyplot as plt\n",
        "import glob\n",
        "import time"
      ],
      "execution_count": null,
      "outputs": []
    },
    {
      "cell_type": "code",
      "metadata": {
        "colab": {
          "base_uri": "https://localhost:8080/"
        },
        "id": "x3nVfQo6fMGc",
        "outputId": "1387b0ed-cc05-4a6f-9978-f0c33323c655"
      },
      "source": [
        "amazon_mat = scipy.io.loadmat('/content/Amazon.mat')\n",
        "amazon_mat"
      ],
      "execution_count": null,
      "outputs": [
        {
          "output_type": "execute_result",
          "data": {
            "text/plain": [
              "{'__globals__': [],\n",
              " '__header__': b'MATLAB 5.0 MAT-file Platform: posix, Created on: Wed Aug 19 20:20:49 2020',\n",
              " '__version__': '1.0',\n",
              " 'features': <11944x25 sparse matrix of type '<class 'numpy.float64'>'\n",
              " \twith 174488 stored elements in Compressed Sparse Column format>,\n",
              " 'homo': <11944x11944 sparse matrix of type '<class 'numpy.float64'>'\n",
              " \twith 8796784 stored elements in Compressed Sparse Column format>,\n",
              " 'label': array([[0., 0., 0., ..., 0., 0., 0.]]),\n",
              " 'net_upu': <11944x11944 sparse matrix of type '<class 'numpy.float64'>'\n",
              " \twith 351216 stored elements in Compressed Sparse Column format>,\n",
              " 'net_usu': <11944x11944 sparse matrix of type '<class 'numpy.float64'>'\n",
              " \twith 7132958 stored elements in Compressed Sparse Column format>,\n",
              " 'net_uvu': <11944x11944 sparse matrix of type '<class 'numpy.float64'>'\n",
              " \twith 2073474 stored elements in Compressed Sparse Column format>}"
            ]
          },
          "metadata": {},
          "execution_count": 3
        }
      ]
    },
    {
      "cell_type": "code",
      "metadata": {
        "colab": {
          "base_uri": "https://localhost:8080/"
        },
        "id": "yxBsTZWM0sYl",
        "outputId": "d2ffe8d7-3a3c-4310-e897-528834e56df2"
      },
      "source": [
        "dense_amazon_mat = amazon_mat['net_upu'].todense()\n",
        "amazon_network = nx.from_numpy_matrix(dense_amazon_mat)\n",
        "print(amazon_network.number_of_edges())\n",
        "print(amazon_network.number_of_nodes())\n",
        "anomalous_nodes_amazon = np.where(amazon_mat['label'] == 1)[1]"
      ],
      "execution_count": null,
      "outputs": [
        {
          "output_type": "stream",
          "name": "stdout",
          "text": [
            "175608\n",
            "11944\n"
          ]
        }
      ]
    },
    {
      "cell_type": "markdown",
      "source": [
        "####CADA function - with Leiden"
      ],
      "metadata": {
        "id": "YJiUiV-TMULn"
      }
    },
    {
      "cell_type": "code",
      "metadata": {
        "id": "YZ384i99enWT"
      },
      "source": [
        "class cada():\n",
        "\tdef __init__(self, graph, algorithm='louvain', resolution=0.1):\n",
        "\t\t\n",
        "\t\t# First do community detection\n",
        "\t\tif algorithm == 'louvain':\n",
        "\t\t\tpartition = community_louvain.best_partition(graph, resolution=resolution)\n",
        "\t\telif algorithm == 'louvain2':\n",
        "\t\t\toptimiser = leidenalg.Optimiser()\n",
        "\t\t\tig_graph = ig.Graph.from_networkx(graph)\n",
        "\t\t\tp = leidenalg.ModularityVertexPartition(ig_graph)\n",
        "\t\t\twhile optimiser.move_nodes(p) > 0:\n",
        "\t\t\t\t\t\tp = p.aggregate_partition()\n",
        "\t\t\tpartition = {node:mem for node, mem in zip(amazon_network.nodes, p.membership)}\n",
        "\t\telif algorithm == 'leiden':\n",
        "\t\t\tig_graph = ig.Graph.from_networkx(graph)\n",
        "\t\t\tp = leidenalg.find_partition(ig_graph, leidenalg.ModularityVertexPartition, n_iterations=-1, seed=2)\n",
        "\t\t\tpartition = {node:mem for node, mem in zip(amazon_network.nodes, p.membership)}\n",
        "\t\telif algorithm == 'leiden2':\n",
        "\t\t\tig_graph = ig.Graph.from_networkx(graph)\n",
        "\t\t\tp = leidenalg.find_partition(ig_graph, leidenalg.CPMVertexPartition, resolution_parameter = resolution, n_iterations=-1)\n",
        "\t\t\tpartition = {node:mem for node, mem in zip(amazon_network.nodes, p.membership)}\n",
        "\t\telse:\n",
        "\t\t\tpartition = self.run_infomap(graph)\n",
        "\t\t\n",
        "\t\tcommunities = set()\n",
        "\t\tfor node in graph.nodes():\n",
        "\t\t\tif node in partition:\n",
        "\t\t\t\tcommunities.add(partition[node])\n",
        "\n",
        "\t\tanom_score = {}\n",
        "\n",
        "\t\t# Compute anomaly score for each node\n",
        "\t\tfor node in graph.nodes():\n",
        "\t\t\tcomms = {}\n",
        "\t\t\tfor neighbor in graph.neighbors(node):\n",
        "\t\t\t\tif neighbor != node:\n",
        "\t\t\t\t\ttry:\n",
        "\t\t\t\t\t\tif partition[neighbor] not in comms:\n",
        "\t\t\t\t\t\t\tcomms[partition[neighbor]] = 0\n",
        "\t\t\t\t\t\tcomms[partition[neighbor]] += 1\n",
        "\t\t\t\t\texcept KeyError:\n",
        "\t\t\t\t\t\tcontinue\n",
        "\n",
        "\t\t\tif len(comms) > 0:\n",
        "\t\t\t\t# The number of communities it is connected to. \n",
        "\t\t\t\tcomms = np.array(list(comms.values()))\n",
        "\t\t\t\t# print('nr communities connected', comms)\n",
        "\t\t\t\tmax_com = np.max(comms)\n",
        "\t\t\t\t# print('Maxcommunity', max_com)\n",
        "\t\t\t\tcomms = comms / max_com\n",
        "\t\t\t\t# print('Communities normalized', comms)\n",
        "\t\t\t\tanom_score[node] = np.sum(comms)\t\t\n",
        "\t\t\t\t# print('Anomaly score., ', anom_score[node])\n",
        "\t\t\telse:\n",
        "\t\t\t\tanom_score[node] = 0\n",
        "\t\t\n",
        "\t\tself.anomaly_scores = sorted(anom_score.items(), key=lambda x: x[1], reverse = True)[::-1]\n",
        "\n",
        "\n",
        "\tdef run_infomap(self, graph):\n",
        "\t\t\"\"\"\n",
        "\t\tRuns Infomap with infomap package \n",
        "\t\t\"\"\"\n",
        "\t\tinfomapSimple = infomap.Infomap(\"--two-level --silent\")\n",
        "\t\tnetwork = infomapSimple.network\n",
        "\t\t\n",
        "\t\tfor e in graph.edges():\n",
        "\t\t\tnetwork.addLink(e[0], e[1])\n",
        "\n",
        "\t\tpartition = {}\n",
        "\t\tinfomapSimple.run();\n",
        "\t\tfor node in infomapSimple.iterTree():\n",
        "\t\t\tif node.isLeaf():\n",
        "\t\t\t\tpartition[node.physicalId] = node.moduleIndex()\n",
        "\n",
        "\t\treturn partition\n",
        "\n",
        "\tdef get_anomaly_scores(self, nr_anomalies=None):\n",
        "\t\t\"\"\"\n",
        "\t\tReturns tuple (node, anomaly_score) for either nr_anomalies or all\n",
        "\t\t\"\"\"\n",
        "\t\tif nr_anomalies:\n",
        "\t\t\treturn self.anomaly_scores[:nr_anomalies]\n",
        "\t\telse:\n",
        "\t\t\treturn self.anomaly_scores \n",
        "\n",
        "\tdef get_top_anomalies(self, nr_anomalies=100):\n",
        "\t\t\"\"\"\n",
        "\t\tReturns highest scoring anomalies\n",
        "\t\t\"\"\"\t\t\t\t\t\n",
        "\t\tanomalies = []\n",
        "\t\tfor anomaly in self.anomaly_scores[:nr_anomalies]:\n",
        "\t\t\tanomalies.append(anomaly[0])\n",
        "\n",
        "\t\treturn anomalies\n",
        "\n",
        "\tdef get_anomalies_threshold(self, threshold):\n",
        "\t\t\"\"\"\n",
        "\t\tReturns anomalies that are above a certain threshold.\n",
        "\t\t\"\"\"\n",
        "\t\tanomalies = []\n",
        "\n",
        "\t\tfor anomaly in self.anomaly_scores:\n",
        "\t\t\tif anomaly[1] > threshold:\n",
        "\t\t\t\tanomalies.append(anomaly[0])\n",
        "\t\t\telse:\n",
        "\t\t\t\tbreak\n",
        "\n",
        "\t\treturn anomalies\n",
        "\n",
        "def evaluate_performance(predicted_anomalies, ground_truth):\n",
        "    correctly_predicted = []\n",
        "    for node in predicted_anomalies:\n",
        "        if node in ground_truth:\n",
        "            correctly_predicted.append(node)\n",
        "    tpr = len(correctly_predicted)/len(ground_truth)\n",
        "    print(len(correctly_predicted))\n",
        "    return tpr\n"
      ],
      "execution_count": null,
      "outputs": []
    },
    {
      "cell_type": "markdown",
      "source": [
        "#### Time trials of CADA per algorithm"
      ],
      "metadata": {
        "id": "nIdibQuVMbAS"
      }
    },
    {
      "cell_type": "code",
      "metadata": {
        "colab": {
          "base_uri": "https://localhost:8080/"
        },
        "id": "1HqhQqsz1nSq",
        "outputId": "e0d20caa-bcbd-4c6f-df1c-f533b2f26756"
      },
      "source": [
        "%%time\n",
        "c = cada(amazon_network, algorithm='louvain', resolution=1)\n",
        "\n",
        "top_anomalies = c.get_top_anomalies(nr_anomalies=len(anomalous_nodes_amazon))\n",
        "# print(top_anomalies, anomalous_nodes_amazon)\n",
        "print(evaluate_performance(top_anomalies, anomalous_nodes_amazon))"
      ],
      "execution_count": null,
      "outputs": [
        {
          "output_type": "stream",
          "name": "stdout",
          "text": [
            "41\n",
            "0.049939098660170524\n",
            "CPU times: user 9.28 s, sys: 62.2 ms, total: 9.34 s\n",
            "Wall time: 9.36 s\n"
          ]
        }
      ]
    },
    {
      "cell_type": "code",
      "source": [
        "%%time\n",
        "c = cada(amazon_network, algorithm='leiden', resolution=1)\n",
        "\n",
        "top_anomalies = c.get_top_anomalies(nr_anomalies=len(anomalous_nodes_amazon))\n",
        "# print(len(top_anomalies), len(c.get_anomaly_scores()), len(anomalous_nodes_amazon))\n",
        "print(evaluate_performance(top_anomalies, anomalous_nodes_amazon))"
      ],
      "metadata": {
        "colab": {
          "base_uri": "https://localhost:8080/"
        },
        "id": "brzLfK7JJqk3",
        "outputId": "f097144e-c6d8-42eb-c081-be58d9d4b236"
      },
      "execution_count": null,
      "outputs": [
        {
          "output_type": "stream",
          "name": "stdout",
          "text": [
            "41\n",
            "0.049939098660170524\n",
            "CPU times: user 3.06 s, sys: 7.88 ms, total: 3.06 s\n",
            "Wall time: 3.07 s\n"
          ]
        }
      ]
    },
    {
      "cell_type": "code",
      "source": [
        "%%time\n",
        "c = cada(amazon_network, algorithm='leiden2', resolution=1)\n",
        "\n",
        "top_anomalies = c.get_top_anomalies(nr_anomalies=len(anomalous_nodes_amazon))\n",
        "# print(top_anomalies, anomalous_nodes_amazon)\n",
        "print(evaluate_performance(top_anomalies, anomalous_nodes_amazon))"
      ],
      "metadata": {
        "colab": {
          "base_uri": "https://localhost:8080/"
        },
        "id": "os0NdzlmMg81",
        "outputId": "d292e75a-9ad1-4720-9de0-0dd2c039ec63"
      },
      "execution_count": null,
      "outputs": [
        {
          "output_type": "stream",
          "name": "stdout",
          "text": [
            "83\n",
            "0.10109622411693057\n",
            "CPU times: user 937 ms, sys: 8.98 ms, total: 946 ms\n",
            "Wall time: 955 ms\n"
          ]
        }
      ]
    },
    {
      "cell_type": "code",
      "source": [
        "%%time\n",
        "c = cada(amazon_network, algorithm='infomap', resolution=1)\n",
        "\n",
        "top_anomalies = c.get_top_anomalies(nr_anomalies=len(anomalous_nodes_amazon))\n",
        "# print(top_anomalies, anomalous_nodes_amazon)\n",
        "print(evaluate_performance(top_anomalies, anomalous_nodes_amazon))"
      ],
      "metadata": {
        "colab": {
          "base_uri": "https://localhost:8080/"
        },
        "id": "rqHOvobE2487",
        "outputId": "7d72763d-f014-410c-ad71-fcdc91218393"
      },
      "execution_count": null,
      "outputs": [
        {
          "output_type": "stream",
          "name": "stdout",
          "text": [
            "128\n",
            "0.1559074299634592\n",
            "CPU times: user 1.41 s, sys: 12 ms, total: 1.42 s\n",
            "Wall time: 1.42 s\n"
          ]
        }
      ]
    },
    {
      "cell_type": "markdown",
      "source": [
        "#### LFR benchmark dataset\n"
      ],
      "metadata": {
        "id": "_osd3qvzMmvO"
      }
    },
    {
      "cell_type": "code",
      "source": [
        "dense_amazon_mat = amazon_mat['net_upu'].todense()\n",
        "# amazon_network = nx.from_numpy_matrix(dense_amazon_mat)\n",
        "def generate_LFR_graph(n = 10000, mu = 0.4):\n",
        "    tau1 = 3\n",
        "    tau2 = 2\n",
        "    max_degree = int(pow(n,0.5))\n",
        "    max_community = int(0.1 * n)\n",
        "    average_degree = int(2*pow(n,1.15)/n)\n",
        "    G = nx.generators.community.LFR_benchmark_graph(\n",
        "        n,\n",
        "        tau1,\n",
        "        tau2,\n",
        "        mu,\n",
        "        average_degree=average_degree,\n",
        "        max_community=max_community,\n",
        "        max_degree=max_degree,\n",
        "        seed=11,\n",
        "    )\n",
        "    return G\n",
        "\n",
        "n=10000\n",
        "LFR_network = generate_LFR_graph(n, 0.4)\n",
        "\n",
        "def inject_random_anomalies(graph,k, k_max, t1):\n",
        "    graph = graph.copy()\n",
        "    n = graph.number_of_nodes()\n",
        "    anomalous_node_ids = np.arange(n, int(n+(n/100)))\n",
        "    for index, node_id in enumerate(anomalous_node_ids):\n",
        "        while True:\n",
        "            x = nx.utils.random_sequence.zipf_rv(alpha=t1)\n",
        "            if x > k and x < k_max:\n",
        "                break\n",
        "        graph.add_node(node_id)\n",
        "        for edge in range(0,x):\n",
        "            graph.add_edge(node_id,random.randint(0,n))\n",
        "    unanomalous_nodes = np.arange(0,graph.number_of_nodes()-len(anomalous_node_ids))\n",
        "    zeros = np.zeros(len(unanomalous_nodes))\n",
        "    ones = np.ones(len(anomalous_node_ids))\n",
        "    labels = np.append(zeros, ones)\n",
        "    return graph, labels\n",
        "\n",
        "def inject_replaced_anomalies(graph, k):\n",
        "    graph = graph.copy()\n",
        "    n = graph.number_of_nodes()\n",
        "    unanomalous_nodes = np.arange(0,n)\n",
        "    anomalous_nodes = np.arange(n,int(n+n/100))\n",
        "    nodes_with_degree_less_2k = []\n",
        "    for node in graph.nodes():\n",
        "        if graph.degree[node] < 2*k:\n",
        "            nodes_with_degree_less_2k.append(node)\n",
        "    \n",
        "    for count, anomalous_node in enumerate(anomalous_nodes):\n",
        "        graph.add_node(anomalous_node)\n",
        "        x = random.sample(nodes_with_degree_less_2k, random.randint(2,21))\n",
        "        for node in x:\n",
        "            if node not in graph:\n",
        "                continue\n",
        "            edges = graph.edges([node])\n",
        "            edges = list(edges)\n",
        "            for edge in edges:\n",
        "                graph.add_edge(anomalous_node, edge[1])\n",
        "            graph.remove_node(node)\n",
        "    len_zeros = graph.number_of_nodes() - len(anomalous_nodes)\n",
        "    zeros = np.zeros(len_zeros)\n",
        "    ones = np.ones(len(anomalous_nodes))\n",
        "    labels = np.append(zeros, ones)\n",
        "    return graph, labels\n",
        "\n",
        "# injecting anomalies - random\n",
        "LFR_network_random_anomalies, LFR_labels_random = inject_random_anomalies(\n",
        "    LFR_network,\n",
        "    k = int(2*pow(n,1.15)/n),\n",
        "    k_max = int(pow(n,0.5)),\n",
        "    t1 = 3)\n",
        "\n",
        "\n",
        "# injecting anomalies - replaced\n",
        "LFR_network_replaced_anomalies, LFR_labels_replaced = inject_replaced_anomalies(\n",
        "    LFR_network,\n",
        "    k = int(2*pow(n,1.15)/n))\n",
        "\n",
        "print(f'Replaced anomalies: {LFR_network_replaced_anomalies.number_of_nodes()}, {len(LFR_labels_replaced)}')\n",
        "print(f'Random anomalies : {LFR_network_random_anomalies.number_of_nodes()}, {len(LFR_labels_random)}')\n",
        "\n",
        "# nx.write_edgelist(LFR_network, path='/content/drive/MyDrive/Masters AI/Sem3/SNACS/Project/LFR_network.csv')"
      ],
      "metadata": {
        "id": "MZGiE5kudn7n",
        "colab": {
          "base_uri": "https://localhost:8080/"
        },
        "outputId": "f26bcef4-6e0e-4cb0-ffba-30ae3f54e22b"
      },
      "execution_count": null,
      "outputs": [
        {
          "output_type": "stream",
          "name": "stdout",
          "text": [
            "Replaced anomalies: 8942, 8942\n",
            "Random anomalies : 10100, 10100\n"
          ]
        }
      ]
    },
    {
      "cell_type": "markdown",
      "source": [
        "####ROC plots"
      ],
      "metadata": {
        "id": "F8TWADJmM8Z3"
      }
    },
    {
      "cell_type": "code",
      "source": [
        "cada_louvain = cada(amazon_network, algorithm = 'louvain', resolution=1)\n",
        "cada_infomap = cada(amazon_network, algorithm='infomap')\n",
        "cada_leiden = cada(amazon_network, algorithm = 'leiden2', resolution=1)\n",
        "\n",
        "cada_louvain_LFR_random = cada(LFR_network_random_anomalies, algorithm = 'louvain', resolution=1)\n",
        "# cada_louvain2_LFR_random = cada(LFR_network_random_anomalies, algorithm = 'louvain2')\n",
        "# cada_leiden_LFR_random = cada(LFR_network_random_anomalies, algorithm = 'leiden')\n",
        "cada_leiden2_LFR_random = cada(LFR_network_random_anomalies, algorithm = 'leiden2', resolution=1)\n",
        "cada_infomap_LFR_random = cada(LFR_network_random_anomalies, algorithm = 'infomap')\n",
        "\n",
        "\n",
        "cada_louvain_LFR_replaced = cada(LFR_network_replaced_anomalies, algorithm = 'louvain')\n",
        "# cada_louvain2_LFR_replaced = cada(LFR_network_replaced_anomalies, algorithm = 'louvain2')\n",
        "# cada_leiden_LFR_replaced = cada(LFR_network_replaced_anomalies, algorithm = 'leiden')\n",
        "cada_leiden2_LFR_replaced = cada(LFR_network_replaced_anomalies, algorithm = 'leiden2', resolution=1)\n",
        "cada_infomap_LFR_replaced = cada(LFR_network_replaced_anomalies, algorithm = 'infomap')\n",
        "\n",
        "# #Get anomaly scores for each community detection algorithm\n",
        "anomaly_scores_cada_louvain = dict(cada_louvain.get_anomaly_scores())\n",
        "anomaly_scores_cada_leiden = dict(cada_leiden.get_anomaly_scores())\n",
        "anomaly_scores_cada_infomap = dict(cada_infomap.get_anomaly_scores())\n",
        "\n",
        "anomaly_scores_cada_louvain_LFR_random = dict(cada_louvain_LFR_random.get_anomaly_scores())\n",
        "# anomaly_scores_cada_louvain2_LFR_random = dict(cada_louvain2_LFR_random.get_anomaly_scores())\n",
        "# anomaly_scores_cada_leiden_LFR_random = dict(cada_leiden_LFR_random.get_anomaly_scores())\n",
        "anomaly_scores_cada_leiden2_LFR_random = dict(cada_leiden2_LFR_random.get_anomaly_scores())\n",
        "anomaly_scores_cada_infomap_LFR_random = dict(cada_infomap_LFR_random.get_anomaly_scores())\n",
        "\n",
        "anomaly_scores_cada_louvain_LFR_replaced = dict(cada_louvain_LFR_replaced.get_anomaly_scores())\n",
        "# anomaly_scores_cada_louvain2_LFR_replaced = dict(cada_louvain2_LFR_replaced.get_anomaly_scores())\n",
        "# anomaly_scores_cada_leiden_LFR_replaced = dict(cada_leiden_LFR_replaced.get_anomaly_scores())\n",
        "anomaly_scores_cada_leiden2_LFR_replaced = dict(cada_leiden2_LFR_replaced.get_anomaly_scores())\n",
        "anomaly_scores_cada_infomap_LFR_replaced = dict(cada_infomap_LFR_replaced.get_anomaly_scores())\n",
        "\n",
        "# #Sort the scores based on node id so order matches with label column\n",
        "sorted_anomaly_scores_louvain = [anomaly_scores_cada_louvain[key] for key in sorted(anomaly_scores_cada_louvain)]\n",
        "sorted_anomaly_scores_leiden = [anomaly_scores_cada_leiden[key] for key in sorted(anomaly_scores_cada_leiden)]\n",
        "sorted_anomaly_scores_infomap = [anomaly_scores_cada_infomap[key] for key in sorted(anomaly_scores_cada_infomap)]\n",
        "\n",
        "sorted_anomaly_scores_louvain_LFR_random = [anomaly_scores_cada_louvain_LFR_random[key] for key in sorted(anomaly_scores_cada_louvain_LFR_random)]\n",
        "# sorted_anomaly_scores_louvain2_LFR_random = [anomaly_scores_cada_louvain2_LFR_random[key] for key in sorted(anomaly_scores_cada_louvain2_LFR_random)]\n",
        "# sorted_anomaly_scores_leiden_LFR_random = [anomaly_scores_cada_leiden_LFR_random[key] for key in sorted(anomaly_scores_cada_leiden_LFR_random)]\n",
        "sorted_anomaly_scores_leiden2_LFR_random = [anomaly_scores_cada_leiden2_LFR_random[key] for key in sorted(anomaly_scores_cada_leiden2_LFR_random)]\n",
        "sorted_anomaly_scores_infomap_LFR_random = [anomaly_scores_cada_infomap_LFR_random[key] for key in sorted(anomaly_scores_cada_infomap_LFR_random)]\n",
        "\n",
        "sorted_anomaly_scores_louvain_LFR_replaced = [anomaly_scores_cada_louvain_LFR_replaced[key] for key in sorted(anomaly_scores_cada_louvain_LFR_replaced)]\n",
        "# sorted_anomaly_scores_louvain2_LFR_replaced = [anomaly_scores_cada_louvain2_LFR_replaced[key] for key in sorted(anomaly_scores_cada_louvain2_LFR_replaced)]\n",
        "# sorted_anomaly_scores_leiden_LFR_replaced = [anomaly_scores_cada_leiden_LFR_replaced[key] for key in sorted(anomaly_scores_cada_leiden_LFR_replaced)]\n",
        "sorted_anomaly_scores_leiden2_LFR_replaced = [anomaly_scores_cada_leiden2_LFR_replaced[key] for key in sorted(anomaly_scores_cada_leiden2_LFR_replaced)]\n",
        "sorted_anomaly_scores_infomap_LFR_replaced = [anomaly_scores_cada_infomap_LFR_replaced[key] for key in sorted(anomaly_scores_cada_infomap_LFR_replaced)]\n",
        "\n",
        "# #Plot ROC curves\n",
        "fpr_louvain, tpr_louvain, threshold_louvain = metrics.roc_curve(amazon_mat['label'].squeeze(), sorted_anomaly_scores_louvain)\n",
        "roc_auc_louvain = metrics.auc(fpr_louvain, tpr_louvain)\n",
        "fpr_leiden, tpr_leiden, threshold_leiden = metrics.roc_curve(amazon_mat['label'].squeeze(), sorted_anomaly_scores_leiden)\n",
        "roc_auc_leiden = metrics.auc(fpr_leiden, tpr_leiden)\n",
        "fpr_infomap, tpr_infomap, threshold_infomap = metrics.roc_curve(amazon_mat['label'].squeeze(), sorted_anomaly_scores_infomap)\n",
        "roc_auc_infomap = metrics.auc(fpr_infomap, tpr_infomap)\n",
        "\n",
        "fpr_louvain_LFR_random, tpr_louvain_LFR_random, threshold_louvain_LFR_random = metrics.roc_curve(LFR_labels_random, sorted_anomaly_scores_louvain_LFR_random)\n",
        "roc_auc_louvain_LFR_random = metrics.auc(fpr_louvain_LFR_random, tpr_louvain_LFR_random)\n",
        "# fpr_louvain2_LFR_random, tpr_louvain2_LFR_random, threshold_louvain2_LFR_random = metrics.roc_curve(LFR_labels_random, sorted_anomaly_scores_louvain2_LFR_random)\n",
        "# roc_auc_louvain2_LFR_random = metrics.auc(fpr_louvain2_LFR_random, tpr_louvain2_LFR_random)\n",
        "# fpr_leiden_LFR_random, tpr_leiden_LFR_random, threshold_leiden_LFR_random = metrics.roc_curve(LFR_labels_random, sorted_anomaly_scores_leiden_LFR_random)\n",
        "# roc_auc_leiden_LFR_random = metrics.auc(fpr_leiden_LFR_random, tpr_leiden_LFR_random)\n",
        "fpr_leiden2_LFR_random, tpr_leiden2_LFR_random, threshold_leiden2_LFR_random = metrics.roc_curve(LFR_labels_random, sorted_anomaly_scores_leiden2_LFR_random)\n",
        "roc_auc_leiden2_LFR_random = metrics.auc(fpr_leiden2_LFR_random, tpr_leiden2_LFR_random)\n",
        "fpr_infomap_LFR_random, tpr_infomap_LFR_random, threshold_infomap_LFR_random = metrics.roc_curve(LFR_labels_random, sorted_anomaly_scores_infomap_LFR_random)\n",
        "roc_auc_infomap_LFR_random = metrics.auc(fpr_infomap_LFR_random, tpr_infomap_LFR_random)\n",
        "\n",
        "fpr_louvain_LFR_replaced, tpr_louvain_LFR_replaced, threshold_louvain_LFR_replaced = metrics.roc_curve(LFR_labels_replaced, sorted_anomaly_scores_louvain_LFR_replaced)\n",
        "roc_auc_louvain_LFR_replaced = metrics.auc(fpr_louvain_LFR_replaced, tpr_louvain_LFR_replaced)\n",
        "# fpr_louvain2_LFR_replaced, tpr_louvain2_LFR_replaced, threshold_louvain2_LFR_replaced = metrics.roc_curve(LFR_labels_replaced, sorted_anomaly_scores_louvain2_LFR_replaced)\n",
        "# roc_auc_louvain2_LFR_replaced = metrics.auc(fpr_louvain2_LFR_replaced, tpr_louvain2_LFR_replaced)\n",
        "# fpr_leiden_LFR_replaced, tpr_leiden_LFR_replaced, threshold_leiden_LFR_replaced = metrics.roc_curve(LFR_labels_replaced, sorted_anomaly_scores_leiden_LFR_replaced)\n",
        "# roc_auc_leiden_LFR_replaced = metrics.auc(fpr_leiden_LFR_replaced, tpr_leiden_LFR_replaced)\n",
        "fpr_leiden2_LFR_replaced, tpr_leiden2_LFR_replaced, threshold_leiden2_LFR_replaced = metrics.roc_curve(LFR_labels_replaced, sorted_anomaly_scores_leiden2_LFR_replaced)\n",
        "roc_auc_leiden2_LFR_replaced = metrics.auc(fpr_leiden2_LFR_replaced, tpr_leiden2_LFR_replaced)\n",
        "fpr_infomap_LFR_replaced, tpr_infomap_LFR_replaced, threshold_infomap_LFR_replaced = metrics.roc_curve(LFR_labels_replaced, sorted_anomaly_scores_infomap_LFR_replaced)\n",
        "roc_auc_infomap_LFR_replaced = metrics.auc(fpr_infomap_LFR_replaced, tpr_infomap_LFR_replaced)\n",
        "\n",
        "plt.title('Receiver Operating Characteristic - Amazon network')\n",
        "plt.plot(fpr_louvain, tpr_louvain, 'red', label = 'AUC Louvain = %0.4f' % roc_auc_louvain)\n",
        "plt.plot(fpr_infomap, tpr_infomap, 'black', label = 'AUC InfoMap = %0.4f' % roc_auc_infomap)\n",
        "plt.plot(fpr_leiden, tpr_leiden, 'blue', label = 'AUC Leiden = %0.4f' % roc_auc_leiden)\n",
        "plt.legend(loc = 'lower right')\n",
        "plt.plot([0, 1], [0, 1],'g--')\n",
        "plt.xlim([0, 1])\n",
        "plt.ylim([0, 1])\n",
        "plt.ylabel('True Positive Rate')\n",
        "plt.xlabel('False Positive Rate')\n",
        "plt.show()\n",
        "\n",
        "\n",
        "plt.title('Receiver Operating Characteristic - Random Anomaly')\n",
        "plt.plot(fpr_louvain_LFR_random, tpr_louvain_LFR_random, 'red', label = 'AUC Louvain = %0.4f' % roc_auc_louvain_LFR_random)\n",
        "# plt.plot(fpr_louvain2_LFR_random, tpr_louvain2_LFR_random, 'green', label = 'AUC Louvain2 = %0.4f' % roc_auc_louvain2_LFR_random)\n",
        "# plt.plot(fpr_leiden_LFR_random, tpr_leiden_LFR_random, 'blue', label= 'AUC Leiden= %0.4f' % roc_auc_leiden_LFR_random)\n",
        "plt.plot(fpr_leiden2_LFR_random, tpr_leiden2_LFR_random, 'blue', label= 'AUC Leiden = %0.4f' % roc_auc_leiden2_LFR_random)\n",
        "plt.plot(fpr_infomap_LFR_random, tpr_infomap_LFR_random, 'black', label= 'AUC Infomap = %0.4f' % roc_auc_infomap_LFR_random)\n",
        "plt.legend(loc = 'lower right')\n",
        "plt.plot([0, 1], [0, 1],'g--')\n",
        "plt.xlim([0, 1])\n",
        "plt.ylim([0, 1])\n",
        "plt.ylabel('True Positive Rate')\n",
        "plt.xlabel('False Positive Rate')\n",
        "plt.show()\n",
        "\n",
        "plt.title('Receiver Operating Characteristic - Replaced Anomaly')\n",
        "plt.plot(fpr_louvain_LFR_replaced, tpr_louvain_LFR_replaced, 'red', label = 'AUC Louvain = %0.4f' % roc_auc_louvain_LFR_replaced)\n",
        "# plt.plot(fpr_louvain2_LFR_replaced, tpr_louvain2_LFR_replaced, 'green', label = 'AUC Louvain2 = %0.4f' % roc_auc_louvain2_LFR_replaced)\n",
        "# plt.plot(fpr_leiden_LFR_replaced, tpr_leiden_LFR_replaced, 'blue', label= 'AUC Leiden= %0.4f' % roc_auc_leiden_LFR_replaced)\n",
        "plt.plot(fpr_leiden2_LFR_replaced, tpr_leiden2_LFR_replaced, 'blue', label= 'AUC Leiden = %0.4f' % roc_auc_leiden2_LFR_replaced)\n",
        "plt.plot(fpr_infomap_LFR_replaced, tpr_infomap_LFR_replaced, 'black', label= 'AUC Infomap = %0.4f' % roc_auc_infomap_LFR_replaced)\n",
        "plt.legend(loc = 'lower right')\n",
        "plt.plot([0, 1], [0, 1],'g--')\n",
        "plt.xlim([0, 1])\n",
        "plt.ylim([0, 1])\n",
        "plt.ylabel('True Positive Rate')\n",
        "plt.xlabel('False Positive Rate')\n",
        "plt.show()"
      ],
      "metadata": {
        "id": "Pbfpr2YUQGN8",
        "colab": {
          "base_uri": "https://localhost:8080/",
          "height": 851
        },
        "outputId": "4ea87be1-2dde-45a7-9777-143cdf6d9024"
      },
      "execution_count": null,
      "outputs": [
        {
          "output_type": "display_data",
          "data": {
            "image/png": "[encoded data removed]",
            "text/plain": [
              "<Figure size 432x288 with 1 Axes>"
            ]
          },
          "metadata": {
            "needs_background": "light"
          }
        },
        {
          "output_type": "display_data",
          "data": {
            "image/png": "[encoded data removed]",
            "text/plain": [
              "<Figure size 432x288 with 1 Axes>"
            ]
          },
          "metadata": {
            "needs_background": "light"
          }
        },
        {
          "output_type": "display_data",
          "data": {
            "image/png": "[encoded data removed]",
            "text/plain": [
              "<Figure size 432x288 with 1 Axes>"
            ]
          },
          "metadata": {
            "needs_background": "light"
          }
        }
      ]
    },
    {
      "cell_type": "markdown",
      "source": [
        "####Generating & storing the Standard LFR_benchmark datastes - for experiment use"
      ],
      "metadata": {
        "id": "lMlDfg0cLOIN"
      }
    },
    {
      "cell_type": "code",
      "source": [
        "LFR_network1 = generate_LFR_graph(1000, 0.4)\n",
        "LFR_network2 = generate_LFR_graph(10000, 0.4)\n",
        "LFR_network3 = generate_LFR_graph(100000, 0.4)"
      ],
      "metadata": {
        "id": "5xqnrGjRGAJ_"
      },
      "execution_count": null,
      "outputs": []
    },
    {
      "cell_type": "code",
      "source": [
        "nx.write_edgelist(LFR_network1, path='/content/drive/MyDrive/Masters AI/Sem3/SNACS/Project/LFR_datasets/LFR_network1.csv')\n",
        "nx.write_edgelist(LFR_network2, path='/content/drive/MyDrive/Masters AI/Sem3/SNACS/Project/LFR_datasets/LFR_network2.csv')\n",
        "nx.write_edgelist(LFR_network3, path='/content/drive/MyDrive/Masters AI/Sem3/SNACS/Project/LFR_datasets/LFR_network3.csv')"
      ],
      "metadata": {
        "id": "brQ-omT3HAHj"
      },
      "execution_count": null,
      "outputs": []
    },
    {
      "cell_type": "code",
      "source": [
        "LFR_network4 = generate_LFR_graph(10000, 0.2)\n",
        "LFR_network5 = generate_LFR_graph(10000, 0.6)\n",
        "LFR_network6 = generate_LFR_graph(10000, 0.8)"
      ],
      "metadata": {
        "id": "896HRY1cHsXF"
      },
      "execution_count": null,
      "outputs": []
    },
    {
      "cell_type": "code",
      "source": [
        "nx.write_edgelist(LFR_network4, path='/content/drive/MyDrive/Masters AI/Sem3/SNACS/Project/LFR_datasets/LFR_network4.csv')\n",
        "nx.write_edgelist(LFR_network5, path='/content/drive/MyDrive/Masters AI/Sem3/SNACS/Project/LFR_datasets/LFR_network5.csv')\n",
        "nx.write_edgelist(LFR_network6, path='/content/drive/MyDrive/Masters AI/Sem3/SNACS/Project/LFR_datasets/LFR_network6.csv')"
      ],
      "metadata": {
        "id": "mJkn2hvFIDKq"
      },
      "execution_count": null,
      "outputs": []
    },
    {
      "cell_type": "markdown",
      "source": [
        "####Experiments with standard generated LFR Datasets"
      ],
      "metadata": {
        "id": "YhvkWVfcgpM3"
      }
    },
    {
      "cell_type": "code",
      "source": [
        "print(\"Threshold values & F1 scores\")\n",
        "th__lfr_leiden_random, f1_lfr_leiden_random = sorted([(i, metrics.f1_score(LFR_labels_random, (np.array(sorted_anomaly_scores_leiden2_LFR_random) > i)*1, average = 'macro')) for i in range(100)], key=lambda x: x[1], reverse=True)[0]\n",
        "th__lfr_louvain_random, f1_lfr_louvain_random = sorted([(i, metrics.f1_score(LFR_labels_random, (np.array(sorted_anomaly_scores_louvain_LFR_random) > i)*1, average = 'macro')) for i in range(100)], key=lambda x: x[1], reverse=True)[0]\n",
        "th__lfr_infomap_random, f1_lfr_infomap_random = sorted([(i, metrics.f1_score(LFR_labels_random, (np.array(sorted_anomaly_scores_infomap_LFR_random) > i)*1, average = 'macro')) for i in range(100)], key=lambda x: x[1], reverse=True)[0]\n",
        "print(\"Random Anomaly\\n\\tLeiden: %d, %.5f\\n\\tLouvain: %d, %.5f\\n\\tinfomap: %d, %.5f\"%(th__lfr_leiden_random, f1_lfr_leiden_random, th__lfr_louvain_random, f1_lfr_louvain_random, th__lfr_infomap_random, f1_lfr_infomap_random))\n",
        "\n",
        "th__lfr_leiden_replaced, f1_lfr_leiden_replaced = sorted([(i, metrics.f1_score(LFR_labels_replaced, (np.array(sorted_anomaly_scores_leiden2_LFR_replaced) > i)*1, average = 'macro')) for i in range(100)], key=lambda x: x[1], reverse=True)[0]\n",
        "th__lfr_louvain_replaced, f1_lfr_louvain_replaced = sorted([(i, metrics.f1_score(LFR_labels_replaced, (np.array(sorted_anomaly_scores_louvain_LFR_replaced) > i)*1, average = 'macro')) for i in range(100)], key=lambda x: x[1], reverse=True)[0]\n",
        "th__lfr_infomap_replaced, f1_lfr_infomap_replaced = sorted([(i, metrics.f1_score(LFR_labels_replaced, (np.array(sorted_anomaly_scores_infomap_LFR_replaced) > i)*1, average = 'macro')) for i in range(100)], key=lambda x: x[1], reverse=True)[0]\n",
        "print(\"Replaced Anomaly\\n\\tLeiden: %d, %.5f\\n\\tLouvain: %d, %.5f\\n\\tinfomap: %d, %.5f\"%(th__lfr_leiden_replaced, f1_lfr_leiden_replaced, th__lfr_louvain_replaced, f1_lfr_louvain_replaced, th__lfr_infomap_replaced, f1_lfr_infomap_replaced))"
      ],
      "metadata": {
        "colab": {
          "base_uri": "https://localhost:8080/"
        },
        "id": "LpY1yeXpgoGV",
        "outputId": "502e232f-a8cb-4780-a91c-1105a0ce2176"
      },
      "execution_count": null,
      "outputs": [
        {
          "output_type": "stream",
          "name": "stdout",
          "text": [
            "Threshold values & F1 scores\n",
            "Random Anomaly\n",
            "\tLeiden: 21, 0.55836\n",
            "\tLouvain: 5, 0.53332\n",
            "\tinfomap: 7, 0.62020\n",
            "Replaced Anomaly\n",
            "\tLeiden: 38, 0.86211\n",
            "\tLouvain: 9, 0.79520\n",
            "\tinfomap: 10, 0.81842\n"
          ]
        }
      ]
    },
    {
      "cell_type": "code",
      "source": [
        "ldn_random, ldn_replaced = [], []\n",
        "lvn_random, lvn_replaced  = [], []\n",
        "imp_random, imp_replaced  = [], []\n",
        "LFR_datasets = glob.glob('/content/drive/MyDrive/Masters AI/Sem3/SNACS/Project/LFR_datasets/LFR_network*.csv')\n",
        "for dataset in LFR_datasets:\n",
        "  print(dataset.split(\"/\")[-1].split(\".csv\")[0])\n",
        "  LFR_nw = nx.read_edgelist(path=dataset, nodetype=int)\n",
        "  n = LFR_nw.number_of_nodes() \n",
        "  x_random, y_random = inject_random_anomalies(LFR_nw, k = int(2*pow(n,1.15)/n), k_max = int(pow(n,0.5)), t1 = 3)\n",
        "  x_replaced, y_replaced = inject_replaced_anomalies(LFR_nw, k = int(2*pow(n,1.15)/n))\n",
        "\n",
        "  cada_ldn_random = cada(x_random, algorithm=\"leiden2\", resolution=1)\n",
        "  cada_lvn_random = cada(x_random, algorithm=\"louvain\", resolution=1)\n",
        "  cada_imp_random = cada(x_random, algorithm=\"infomap\")\n",
        "  anomaly_scores_cada_lvn_random = dict(cada_lvn_random.get_anomaly_scores())\n",
        "  sorted_anomaly_scores_lvn_random = [anomaly_scores_cada_lvn_random[key] for key in sorted(anomaly_scores_cada_lvn_random)]\n",
        "  anomaly_scores_cada_ldn_random = dict(cada_ldn_random.get_anomaly_scores())\n",
        "  sorted_anomaly_scores_ldn_random = [anomaly_scores_cada_ldn_random[key] for key in sorted(anomaly_scores_cada_ldn_random)]\n",
        "  anomaly_scores_cada_imp_random = dict(cada_imp_random.get_anomaly_scores())\n",
        "  sorted_anomaly_scores_imp_random = [anomaly_scores_cada_imp_random[key] for key in sorted(anomaly_scores_cada_imp_random)]\n",
        "\n",
        "  cada_ldn_replaced = cada(x_replaced, algorithm=\"leiden2\", resolution=1)\n",
        "  cada_lvn_replaced = cada(x_replaced, algorithm=\"louvain\", resolution=1)\n",
        "  cada_imp_replaced = cada(x_replaced, algorithm=\"infomap\")\n",
        "  anomaly_scores_cada_lvn_replaced = dict(cada_lvn_replaced.get_anomaly_scores())\n",
        "  sorted_anomaly_scores_lvn_replaced = [anomaly_scores_cada_lvn_replaced[key] for key in sorted(anomaly_scores_cada_lvn_replaced)]\n",
        "  anomaly_scores_cada_ldn_replaced = dict(cada_ldn_replaced.get_anomaly_scores())\n",
        "  sorted_anomaly_scores_ldn_replaced = [anomaly_scores_cada_ldn_replaced[key] for key in sorted(anomaly_scores_cada_ldn_replaced)]\n",
        "  anomaly_scores_cada_imp_replaced = dict(cada_imp_replaced.get_anomaly_scores())\n",
        "  sorted_anomaly_scores_imp_replaced = [anomaly_scores_cada_imp_replaced[key] for key in sorted(anomaly_scores_cada_imp_replaced)]\n",
        "\n",
        "  th__lfr_leiden_random, f1_lfr_leiden_random = sorted([(i, metrics.f1_score(y_random, (np.array(sorted_anomaly_scores_ldn_random) > i)*1, average = 'macro')) for i in range(100)], key=lambda x: x[1], reverse=True)[0]\n",
        "  th__lfr_louvain_random, f1_lfr_louvain_random = sorted([(i, metrics.f1_score(y_random, (np.array(sorted_anomaly_scores_lvn_random) > i)*1, average = 'macro')) for i in range(100)], key=lambda x: x[1], reverse=True)[0]\n",
        "  th__lfr_infomap_random, f1_lfr_infomap_random = sorted([(i, metrics.f1_score(y_random, (np.array(sorted_anomaly_scores_imp_random) > i)*1, average = 'macro')) for i in range(100)], key=lambda x: x[1], reverse=True)[0]  \n",
        "  print(\"Random Anomaly\\n\\tLeiden: %d, %.5f\\n\\tLouvain: %d, %.5f\\n\\tinfomap: %d, %.5f\"%(th__lfr_leiden_random, f1_lfr_leiden_random, th__lfr_louvain_random, f1_lfr_louvain_random, th__lfr_infomap_random, f1_lfr_infomap_random))\n",
        "  \n",
        "  th__lfr_leiden_replaced, f1_lfr_leiden_replaced = sorted([(i, metrics.f1_score(y_replaced, (np.array(sorted_anomaly_scores_ldn_replaced) > i)*1, average = 'macro')) for i in range(100)], key=lambda x: x[1], reverse=True)[0]\n",
        "  th__lfr_louvain_replaced, f1_lfr_louvain_replaced = sorted([(i, metrics.f1_score(y_replaced, (np.array(sorted_anomaly_scores_lvn_replaced) > i)*1, average = 'macro')) for i in range(100)], key=lambda x: x[1], reverse=True)[0]\n",
        "  th__lfr_infomap_replaced, f1_lfr_infomap_replaced = sorted([(i, metrics.f1_score(y_replaced, (np.array(sorted_anomaly_scores_imp_replaced) > i)*1, average = 'macro')) for i in range(100)], key=lambda x: x[1], reverse=True)[0]\n",
        "  print(\"Replaced Anomaly\\n\\tLeiden: %d, %.5f\\n\\tLouvain: %d, %.5f\\n\\tinfomap: %d, %.5f\"%(th__lfr_leiden_replaced, f1_lfr_leiden_replaced, th__lfr_louvain_replaced, f1_lfr_louvain_replaced, th__lfr_infomap_replaced, f1_lfr_infomap_replaced))\n",
        "\n",
        "  ldn_random.append(f1_lfr_leiden_random)\n",
        "  lvn_random.append(f1_lfr_louvain_random)\n",
        "  imp_random.append(f1_lfr_infomap_random)\n",
        "\n",
        "  ldn_replaced.append(f1_lfr_leiden_replaced)\n",
        "  lvn_replaced.append(f1_lfr_louvain_replaced)\n",
        "  imp_replaced.append(f1_lfr_infomap_replaced)"
      ],
      "metadata": {
        "colab": {
          "base_uri": "https://localhost:8080/"
        },
        "id": "91hKKPjYkIUn",
        "outputId": "487f610e-ea20-4490-c83d-6c17932c8bef"
      },
      "execution_count": null,
      "outputs": [
        {
          "output_type": "stream",
          "name": "stdout",
          "text": [
            "LFR_network1\n",
            "Random Anomaly\n",
            "\tLeiden: 7, 0.54460\n",
            "\tLouvain: 4, 0.55156\n",
            "\tinfomap: 5, 0.58220\n",
            "Replaced Anomaly\n",
            "\tLeiden: 17, 0.84588\n",
            "\tLouvain: 3, 0.59385\n",
            "\tinfomap: 5, 0.77693\n",
            "LFR_network2\n",
            "Random Anomaly\n",
            "\tLeiden: 11, 0.53052\n",
            "\tLouvain: 5, 0.55610\n",
            "\tinfomap: 7, 0.60455\n",
            "Replaced Anomaly\n",
            "\tLeiden: 30, 0.84676\n",
            "\tLouvain: 5, 0.62072\n",
            "\tinfomap: 10, 0.82610\n",
            "LFR_network3\n",
            "Random Anomaly\n",
            "\tLeiden: 5, 0.52376\n",
            "\tLouvain: 5, 0.60323\n",
            "\tinfomap: 12, 0.63648\n",
            "Replaced Anomaly\n",
            "\tLeiden: 8, 0.81035\n",
            "\tLouvain: 6, 0.62413\n",
            "\tinfomap: 13, 0.73254\n",
            "LFR_network4\n",
            "Random Anomaly\n",
            "\tLeiden: 16, 0.54318\n",
            "\tLouvain: 4, 0.78211\n",
            "\tinfomap: 6, 0.82139\n",
            "Replaced Anomaly\n",
            "\tLeiden: 40, 0.81663\n",
            "\tLouvain: 4, 0.66458\n",
            "\tinfomap: 6, 0.84002\n",
            "LFR_network5\n",
            "Random Anomaly\n",
            "\tLeiden: 25, 0.55161\n",
            "\tLouvain: 5, 0.51403\n",
            "\tinfomap: 12, 0.53255\n",
            "Replaced Anomaly\n",
            "\tLeiden: 33, 0.83639\n",
            "\tLouvain: 5, 0.53656\n",
            "\tinfomap: 12, 0.73807\n",
            "LFR_network6\n",
            "Random Anomaly\n",
            "\tLeiden: 13, 0.54132\n",
            "\tLouvain: 5, 0.50949\n",
            "\tinfomap: 11, 0.52789\n",
            "Replaced Anomaly\n",
            "\tLeiden: 32, 0.85374\n",
            "\tLouvain: 5, 0.57260\n",
            "\tinfomap: 12, 0.73155\n"
          ]
        }
      ]
    },
    {
      "cell_type": "code",
      "source": [
        "x = [1, 10, 100]\n",
        "plt.plot(x,ldn_random[:3], \"bo-\", label = \"Leiden\")\n",
        "plt.plot(x, lvn_random[:3], \"ro-\", label = \"Louvain\")\n",
        "plt.plot(x, imp_random[:3], color=\"black\", marker=\"o\", label = \"InfoMap\")\n",
        "plt.xlabel(\"Network sizes (x1000)\")\n",
        "plt.ylabel(\"F1 scores\")\n",
        "plt.legend(loc=\"lower right\")\n",
        "plt.ylim(0, 1)\n",
        "plt.show()\n",
        "\n",
        "x = [0.2, 0.4, 0.6, 0.8]\n",
        "plt.plot(x, [ldn_random[3], ldn_random[1], ldn_random[4], ldn_random[5]], \"bo-\", label = \"Leiden\")\n",
        "plt.plot(x, [lvn_random[3], lvn_random[1], lvn_random[4], lvn_random[5]], \"ro-\", label = \"Louvain\")\n",
        "plt.plot(x, [imp_random[3], imp_random[1], imp_random[4], imp_random[5]], color=\"black\", marker=\"o\", label = \"InfoMap\")\n",
        "plt.ylim(0, 1)\n",
        "plt.xlabel(\"Mu\")\n",
        "plt.ylabel(\"F1 scores\")\n",
        "plt.legend(loc=\"lower right\")\n",
        "plt.show()"
      ],
      "metadata": {
        "colab": {
          "base_uri": "https://localhost:8080/",
          "height": 549
        },
        "id": "Wm8f_k-RwrNi",
        "outputId": "2bed30f0-edd3-40ab-abb4-750407a3a37d"
      },
      "execution_count": null,
      "outputs": [
        {
          "output_type": "display_data",
          "data": {
            "image/png": "[encoded data removed]",
            "text/plain": [
              "<Figure size 432x288 with 1 Axes>"
            ]
          },
          "metadata": {
            "needs_background": "light"
          }
        },
        {
          "output_type": "display_data",
          "data": {
            "image/png": "[encoded data removed]",
            "text/plain": [
              "<Figure size 432x288 with 1 Axes>"
            ]
          },
          "metadata": {
            "needs_background": "light"
          }
        }
      ]
    },
    {
      "cell_type": "code",
      "source": [
        "x = [1, 10, 100]\n",
        "plt.plot(x,ldn_replaced[:3], \"bo-\", label = \"Leiden\")\n",
        "plt.plot(x, lvn_replaced[:3], \"ro-\", label = \"Louvain\")\n",
        "plt.plot(x, imp_replaced[:3], color=\"black\", marker=\"o\", label = \"InfoMap\")\n",
        "plt.ylim(0, 1)\n",
        "plt.xlabel(\"Network sizes (x1000)\")\n",
        "plt.ylabel(\"F1 scores\")\n",
        "plt.legend(loc=\"lower right\")\n",
        "plt.show()\n",
        "\n",
        "\n",
        "x = [0.2, 0.4, 0.6, 0.8]\n",
        "plt.plot(x, [ldn_replaced[3], ldn_replaced[1], ldn_replaced[4], ldn_replaced[5]], \"bo-\", label = \"Leiden\")\n",
        "plt.plot(x, [lvn_replaced[3], lvn_replaced[1], lvn_replaced[4], lvn_replaced[5]], \"ro-\", label = \"Louvain\")\n",
        "plt.plot(x, [imp_replaced[3], imp_replaced[1], imp_replaced[4], imp_replaced[5]], color=\"black\", marker=\"o\", label = \"InfoMap\")\n",
        "plt.ylim(0, 1)\n",
        "plt.xlabel(\"Mu\")\n",
        "plt.ylabel(\"F1 scores\")\n",
        "plt.legend(loc=\"lower right\")\n",
        "plt.show()"
      ],
      "metadata": {
        "colab": {
          "base_uri": "https://localhost:8080/",
          "height": 549
        },
        "id": "BP1gq5rFAn-h",
        "outputId": "9defc559-829f-4e90-8fbe-4b1784b94e20"
      },
      "execution_count": null,
      "outputs": [
        {
          "output_type": "display_data",
          "data": {
            "image/png": "[encoded data removed]",
            "text/plain": [
              "<Figure size 432x288 with 1 Axes>"
            ]
          },
          "metadata": {
            "needs_background": "light"
          }
        },
        {
          "output_type": "display_data",
          "data": {
            "image/png": "[encoded data removed]",
            "text/plain": [
              "<Figure size 432x288 with 1 Axes>"
            ]
          },
          "metadata": {
            "needs_background": "light"
          }
        }
      ]
    }
  ]
}